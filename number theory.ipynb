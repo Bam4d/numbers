{
 "cells": [
  {
   "cell_type": "code",
   "execution_count": 9,
   "metadata": {
    "collapsed": false
   },
   "outputs": [
    {
     "name": "stdout",
     "output_type": "stream",
     "text": [
      "First 10 distances in 2 dimensions: 1.41421356237\n",
      "Furthest distances in 3 dimensions: 1.73205080757\n"
     ]
    }
   ],
   "source": [
    "import matplotlib\n",
    "import numpy as np\n",
    "import matplotlib.pyplot as plt\n",
    "import numpy as np\n",
    "import numpy.linalg as la\n",
    "\n",
    "def eucidian_dist(a, b):\n",
    "    return la.norm(a-b)\n",
    "\n",
    "# every integer can be represented by a n-field, an extension of a field modulus n which is synonymous with a base-n number\n",
    "# representation\n",
    "\n",
    "# 2-field space (exactly the same as the field Z mod n)\n",
    "ring2d = np.array([1,1])\n",
    "print \"First 10 distances in 2 dimensions: %s\" % eucidian_dist(0, ring2d)\n",
    "\n",
    "\n",
    "\n",
    "# 3-field \n",
    "ring3d = np.array([1,1,1])\n",
    "print \"Furthest distances in 3 dimensions: %s\" % eucidian_dist(0, ring3d)"
   ]
  },
  {
   "cell_type": "code",
   "execution_count": 10,
   "metadata": {
    "collapsed": false
   },
   "outputs": [],
   "source": [
    "# Now convert into hyper-ring dimensional spiral representation\n",
    "def get_spiral_coordinates(ring):\n",
    "\n",
    "    # The radius of each dimension\n",
    "    radii = []\n",
    "    radii.append(ring[0])\n",
    "    # The angle of each dimension\n",
    "    angles_rads = []\n",
    "    angles_rads.append(0)\n",
    "    for i in range(0, ring.size-1):\n",
    "        radius = np.sqrt(np.sum(ring[:(i+2)]**2))\n",
    "        radii.append(radius)\n",
    "\n",
    "        angle_rads = np.arctan(ring[(i+1)] / radii[i])\n",
    "        #print angle_rads\n",
    "        angles_rads.append(angle_rads)\n",
    "        \n",
    "        \n",
    "    return np.array(radii), np.cumsum(angles_rads)\n",
    "\n",
    "radii, angles_rads = get_spiral_coordinates(np.ones(1000))\n",
    "\n",
    "\n",
    "ax = plt.subplot(111, projection='polar')\n",
    "ax.plot(angles_rads, radii, color='r', linewidth=1)\n",
    "ax.set_rmax(30.0)\n"
   ]
  },
  {
   "cell_type": "code",
   "execution_count": 56,
   "metadata": {
    "collapsed": false
   },
   "outputs": [],
   "source": []
  },
  {
   "cell_type": "code",
   "execution_count": null,
   "metadata": {
    "collapsed": false
   },
   "outputs": [],
   "source": []
  }
 ],
 "metadata": {
  "kernelspec": {
   "display_name": "Python 2",
   "language": "python",
   "name": "python2"
  },
  "language_info": {
   "codemirror_mode": {
    "name": "ipython",
    "version": 2
   },
   "file_extension": ".py",
   "mimetype": "text/x-python",
   "name": "python",
   "nbconvert_exporter": "python",
   "pygments_lexer": "ipython2",
   "version": "2.7.6"
  }
 },
 "nbformat": 4,
 "nbformat_minor": 0
}
